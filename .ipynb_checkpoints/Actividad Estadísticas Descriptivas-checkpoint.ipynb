{
 "cells": [
  {
   "cell_type": "code",
   "execution_count": 1,
   "id": "98246d18",
   "metadata": {},
   "outputs": [],
   "source": [
    "import pandas as pd\n",
    "import numpy as np\n",
    "import matplotlib.pyplot as plt\n",
    "import seaborn as sns"
   ]
  },
  {
   "cell_type": "markdown",
   "id": "8edb84aa",
   "metadata": {},
   "source": [
    "## Lectura de Datos"
   ]
  },
  {
   "cell_type": "code",
   "execution_count": 2,
   "id": "55e11f9a",
   "metadata": {},
   "outputs": [
    {
     "data": {
      "text/html": [
       "<div>\n",
       "<style scoped>\n",
       "    .dataframe tbody tr th:only-of-type {\n",
       "        vertical-align: middle;\n",
       "    }\n",
       "\n",
       "    .dataframe tbody tr th {\n",
       "        vertical-align: top;\n",
       "    }\n",
       "\n",
       "    .dataframe thead th {\n",
       "        text-align: right;\n",
       "    }\n",
       "</style>\n",
       "<table border=\"1\" class=\"dataframe\">\n",
       "  <thead>\n",
       "    <tr style=\"text-align: right;\">\n",
       "      <th></th>\n",
       "      <th>user_name</th>\n",
       "      <th>user_location</th>\n",
       "      <th>user_description</th>\n",
       "      <th>user_created</th>\n",
       "      <th>user_followers</th>\n",
       "      <th>user_friends</th>\n",
       "      <th>user_favourites</th>\n",
       "      <th>user_verified</th>\n",
       "      <th>date</th>\n",
       "      <th>text</th>\n",
       "      <th>hashtags</th>\n",
       "      <th>source</th>\n",
       "      <th>is_retweet</th>\n",
       "    </tr>\n",
       "  </thead>\n",
       "  <tbody>\n",
       "    <tr>\n",
       "      <th>0</th>\n",
       "      <td>ᏉᎥ☻լꂅϮ</td>\n",
       "      <td>astroworld</td>\n",
       "      <td>wednesday addams as a disney princess keepin i...</td>\n",
       "      <td>2017-05-26 05:46:42</td>\n",
       "      <td>624</td>\n",
       "      <td>950</td>\n",
       "      <td>18775</td>\n",
       "      <td>False</td>\n",
       "      <td>2020-07-25 12:27:21</td>\n",
       "      <td>If I smelled the scent of hand sanitizers toda...</td>\n",
       "      <td>NaN</td>\n",
       "      <td>Twitter for iPhone</td>\n",
       "      <td>False</td>\n",
       "    </tr>\n",
       "    <tr>\n",
       "      <th>1</th>\n",
       "      <td>Tom Basile 🇺🇸</td>\n",
       "      <td>New York, NY</td>\n",
       "      <td>Husband, Father, Columnist &amp; Commentator. Auth...</td>\n",
       "      <td>2009-04-16 20:06:23</td>\n",
       "      <td>2253</td>\n",
       "      <td>1677</td>\n",
       "      <td>24</td>\n",
       "      <td>True</td>\n",
       "      <td>2020-07-25 12:27:17</td>\n",
       "      <td>Hey @Yankees @YankeesPR and @MLB - wouldn't it...</td>\n",
       "      <td>NaN</td>\n",
       "      <td>Twitter for Android</td>\n",
       "      <td>False</td>\n",
       "    </tr>\n",
       "    <tr>\n",
       "      <th>2</th>\n",
       "      <td>Time4fisticuffs</td>\n",
       "      <td>Pewee Valley, KY</td>\n",
       "      <td>#Christian #Catholic #Conservative #Reagan #Re...</td>\n",
       "      <td>2009-02-28 18:57:41</td>\n",
       "      <td>9275</td>\n",
       "      <td>9525</td>\n",
       "      <td>7254</td>\n",
       "      <td>False</td>\n",
       "      <td>2020-07-25 12:27:14</td>\n",
       "      <td>@diane3443 @wdunlap @realDonaldTrump Trump nev...</td>\n",
       "      <td>['COVID19']</td>\n",
       "      <td>Twitter for Android</td>\n",
       "      <td>False</td>\n",
       "    </tr>\n",
       "    <tr>\n",
       "      <th>3</th>\n",
       "      <td>ethel mertz</td>\n",
       "      <td>Stuck in the Middle</td>\n",
       "      <td>#Browns #Indians #ClevelandProud #[]_[] #Cavs ...</td>\n",
       "      <td>2019-03-07 01:45:06</td>\n",
       "      <td>197</td>\n",
       "      <td>987</td>\n",
       "      <td>1488</td>\n",
       "      <td>False</td>\n",
       "      <td>2020-07-25 12:27:10</td>\n",
       "      <td>@brookbanktv The one gift #COVID19 has give me...</td>\n",
       "      <td>['COVID19']</td>\n",
       "      <td>Twitter for iPhone</td>\n",
       "      <td>False</td>\n",
       "    </tr>\n",
       "    <tr>\n",
       "      <th>4</th>\n",
       "      <td>DIPR-J&amp;K</td>\n",
       "      <td>Jammu and Kashmir</td>\n",
       "      <td>🖊️Official Twitter handle of Department of Inf...</td>\n",
       "      <td>2017-02-12 06:45:15</td>\n",
       "      <td>101009</td>\n",
       "      <td>168</td>\n",
       "      <td>101</td>\n",
       "      <td>False</td>\n",
       "      <td>2020-07-25 12:27:08</td>\n",
       "      <td>25 July : Media Bulletin on Novel #CoronaVirus...</td>\n",
       "      <td>['CoronaVirusUpdates', 'COVID19']</td>\n",
       "      <td>Twitter for Android</td>\n",
       "      <td>False</td>\n",
       "    </tr>\n",
       "  </tbody>\n",
       "</table>\n",
       "</div>"
      ],
      "text/plain": [
       "         user_name         user_location  \\\n",
       "0           ᏉᎥ☻լꂅϮ            astroworld   \n",
       "1    Tom Basile 🇺🇸          New York, NY   \n",
       "2  Time4fisticuffs      Pewee Valley, KY   \n",
       "3      ethel mertz  Stuck in the Middle    \n",
       "4         DIPR-J&K     Jammu and Kashmir   \n",
       "\n",
       "                                    user_description         user_created  \\\n",
       "0  wednesday addams as a disney princess keepin i...  2017-05-26 05:46:42   \n",
       "1  Husband, Father, Columnist & Commentator. Auth...  2009-04-16 20:06:23   \n",
       "2  #Christian #Catholic #Conservative #Reagan #Re...  2009-02-28 18:57:41   \n",
       "3  #Browns #Indians #ClevelandProud #[]_[] #Cavs ...  2019-03-07 01:45:06   \n",
       "4  🖊️Official Twitter handle of Department of Inf...  2017-02-12 06:45:15   \n",
       "\n",
       "   user_followers  user_friends  user_favourites  user_verified  \\\n",
       "0             624           950            18775          False   \n",
       "1            2253          1677               24           True   \n",
       "2            9275          9525             7254          False   \n",
       "3             197           987             1488          False   \n",
       "4          101009           168              101          False   \n",
       "\n",
       "                  date                                               text  \\\n",
       "0  2020-07-25 12:27:21  If I smelled the scent of hand sanitizers toda...   \n",
       "1  2020-07-25 12:27:17  Hey @Yankees @YankeesPR and @MLB - wouldn't it...   \n",
       "2  2020-07-25 12:27:14  @diane3443 @wdunlap @realDonaldTrump Trump nev...   \n",
       "3  2020-07-25 12:27:10  @brookbanktv The one gift #COVID19 has give me...   \n",
       "4  2020-07-25 12:27:08  25 July : Media Bulletin on Novel #CoronaVirus...   \n",
       "\n",
       "                            hashtags               source  is_retweet  \n",
       "0                                NaN   Twitter for iPhone       False  \n",
       "1                                NaN  Twitter for Android       False  \n",
       "2                        ['COVID19']  Twitter for Android       False  \n",
       "3                        ['COVID19']   Twitter for iPhone       False  \n",
       "4  ['CoronaVirusUpdates', 'COVID19']  Twitter for Android       False  "
      ]
     },
     "execution_count": 2,
     "metadata": {},
     "output_type": "execute_result"
    }
   ],
   "source": [
    "data = pd.read_csv(\"covid19_tweets.csv\")\n",
    "data.head()"
   ]
  },
  {
   "cell_type": "markdown",
   "id": "caa342e6",
   "metadata": {},
   "source": [
    "### ¿Cuál es la cantidad de datos que hay?"
   ]
  },
  {
   "cell_type": "code",
   "execution_count": 3,
   "id": "c40dd546",
   "metadata": {},
   "outputs": [
    {
     "data": {
      "text/plain": [
       "(74436, 13)"
      ]
     },
     "execution_count": 3,
     "metadata": {},
     "output_type": "execute_result"
    }
   ],
   "source": [
    "data.shape"
   ]
  },
  {
   "cell_type": "markdown",
   "id": "5b1f7a42",
   "metadata": {},
   "source": [
    "Respuesta: Hay un total de 74,436 registros, cada uno con un total de 13 columnas"
   ]
  },
  {
   "cell_type": "markdown",
   "id": "d4b6caf5",
   "metadata": {},
   "source": [
    "### Identifica el tipo de variables"
   ]
  },
  {
   "cell_type": "code",
   "execution_count": 4,
   "id": "dd85c20f",
   "metadata": {},
   "outputs": [
    {
     "name": "stdout",
     "output_type": "stream",
     "text": [
      "<class 'pandas.core.frame.DataFrame'>\n",
      "RangeIndex: 74436 entries, 0 to 74435\n",
      "Data columns (total 13 columns):\n",
      " #   Column            Non-Null Count  Dtype \n",
      "---  ------            --------------  ----- \n",
      " 0   user_name         74436 non-null  object\n",
      " 1   user_location     59218 non-null  object\n",
      " 2   user_description  70079 non-null  object\n",
      " 3   user_created      74436 non-null  object\n",
      " 4   user_followers    74436 non-null  int64 \n",
      " 5   user_friends      74436 non-null  int64 \n",
      " 6   user_favourites   74436 non-null  int64 \n",
      " 7   user_verified     74436 non-null  bool  \n",
      " 8   date              74436 non-null  object\n",
      " 9   text              74436 non-null  object\n",
      " 10  hashtags          53002 non-null  object\n",
      " 11  source            74424 non-null  object\n",
      " 12  is_retweet        74436 non-null  bool  \n",
      "dtypes: bool(2), int64(3), object(8)\n",
      "memory usage: 6.4+ MB\n"
     ]
    }
   ],
   "source": [
    "data.info()"
   ]
  },
  {
   "cell_type": "markdown",
   "id": "ae5d5d1f",
   "metadata": {},
   "source": [
    "Las siguientes variables son categóricas (cualitativas):\n",
    "- user_name\n",
    "- user_location\n",
    "- user_description\n",
    "- user_description (fecha)\n",
    "- user_verified\n",
    "- date (fecha)\n",
    "- text\n",
    "- hashtags\n",
    "- source\n",
    "- is_retweet\n",
    "\n",
    "Las siguientes variables son cuantitativas:\n",
    "- user_followers\n",
    "- user_friends\n",
    "- user_favourites"
   ]
  },
  {
   "cell_type": "markdown",
   "id": "f2b4b9ca",
   "metadata": {},
   "source": [
    "## Análisis de estadísticas"
   ]
  },
  {
   "cell_type": "markdown",
   "id": "37ca6ec2",
   "metadata": {},
   "source": [
    "### ¿Qué representa cada variable y en qué rango se encuentra?"
   ]
  },
  {
   "cell_type": "code",
   "execution_count": 5,
   "id": "f84ad143",
   "metadata": {},
   "outputs": [
    {
     "data": {
      "text/html": [
       "<div>\n",
       "<style scoped>\n",
       "    .dataframe tbody tr th:only-of-type {\n",
       "        vertical-align: middle;\n",
       "    }\n",
       "\n",
       "    .dataframe tbody tr th {\n",
       "        vertical-align: top;\n",
       "    }\n",
       "\n",
       "    .dataframe thead th {\n",
       "        text-align: right;\n",
       "    }\n",
       "</style>\n",
       "<table border=\"1\" class=\"dataframe\">\n",
       "  <thead>\n",
       "    <tr style=\"text-align: right;\">\n",
       "      <th></th>\n",
       "      <th>count</th>\n",
       "      <th>mean</th>\n",
       "      <th>std</th>\n",
       "      <th>min</th>\n",
       "      <th>25%</th>\n",
       "      <th>50%</th>\n",
       "      <th>75%</th>\n",
       "      <th>max</th>\n",
       "    </tr>\n",
       "  </thead>\n",
       "  <tbody>\n",
       "    <tr>\n",
       "      <th>user_followers</th>\n",
       "      <td>74436.0</td>\n",
       "      <td>105951.312913</td>\n",
       "      <td>822289.985493</td>\n",
       "      <td>0.0</td>\n",
       "      <td>166.0</td>\n",
       "      <td>960.0</td>\n",
       "      <td>5148.00</td>\n",
       "      <td>13892841.0</td>\n",
       "    </tr>\n",
       "    <tr>\n",
       "      <th>user_friends</th>\n",
       "      <td>74436.0</td>\n",
       "      <td>2154.721170</td>\n",
       "      <td>9365.587474</td>\n",
       "      <td>0.0</td>\n",
       "      <td>153.0</td>\n",
       "      <td>552.0</td>\n",
       "      <td>1780.25</td>\n",
       "      <td>497363.0</td>\n",
       "    </tr>\n",
       "    <tr>\n",
       "      <th>user_favourites</th>\n",
       "      <td>74436.0</td>\n",
       "      <td>15297.472030</td>\n",
       "      <td>46689.714291</td>\n",
       "      <td>0.0</td>\n",
       "      <td>220.0</td>\n",
       "      <td>1927.0</td>\n",
       "      <td>10148.00</td>\n",
       "      <td>2047197.0</td>\n",
       "    </tr>\n",
       "  </tbody>\n",
       "</table>\n",
       "</div>"
      ],
      "text/plain": [
       "                   count           mean            std  min    25%     50%  \\\n",
       "user_followers   74436.0  105951.312913  822289.985493  0.0  166.0   960.0   \n",
       "user_friends     74436.0    2154.721170    9365.587474  0.0  153.0   552.0   \n",
       "user_favourites  74436.0   15297.472030   46689.714291  0.0  220.0  1927.0   \n",
       "\n",
       "                      75%         max  \n",
       "user_followers    5148.00  13892841.0  \n",
       "user_friends      1780.25    497363.0  \n",
       "user_favourites  10148.00   2047197.0  "
      ]
     },
     "execution_count": 5,
     "metadata": {},
     "output_type": "execute_result"
    }
   ],
   "source": [
    "data.describe(include=[\"number\"]).T"
   ]
  },
  {
   "cell_type": "markdown",
   "id": "fb396aae",
   "metadata": {},
   "source": [
    "<b>user_followers</b>\n",
    "\n",
    "Esta variable se refiere a la cantidad de seguidores que tiene el usuario. Está en un rango de 0 a 13892841 \n",
    "\n",
    "<b>user_friends</b>\n",
    "\n",
    "Esta variable se refiere a la cantidad de amigos que tiene el usuario. Está en un rango de 0 a 497363\n",
    "\n",
    "<b>user_favourites</b>\n",
    "\n",
    "Esta variable se refiere a la cantidad de favoritos que tiene el usuario. Está en un rango de 0 a 2047197"
   ]
  },
  {
   "cell_type": "code",
   "execution_count": 6,
   "id": "1ca167d1",
   "metadata": {},
   "outputs": [
    {
     "data": {
      "text/plain": [
       "False    65082\n",
       "True      9354\n",
       "Name: user_verified, dtype: int64"
      ]
     },
     "execution_count": 6,
     "metadata": {},
     "output_type": "execute_result"
    }
   ],
   "source": [
    "data.user_verified.value_counts()"
   ]
  },
  {
   "cell_type": "markdown",
   "id": "4d1b2fa5",
   "metadata": {},
   "source": [
    "<b>user_verified</b>\n",
    "\n",
    "Esta variable indica si la cuenta es verificada. Hay 65082 cuentas no verificadas, y 9354 verificadas"
   ]
  },
  {
   "cell_type": "code",
   "execution_count": 7,
   "id": "821b47f8",
   "metadata": {},
   "outputs": [
    {
     "data": {
      "text/plain": [
       "False    74436\n",
       "Name: is_retweet, dtype: int64"
      ]
     },
     "execution_count": 7,
     "metadata": {},
     "output_type": "execute_result"
    }
   ],
   "source": [
    "data.is_retweet.value_counts()"
   ]
  },
  {
   "cell_type": "markdown",
   "id": "926cf2b4",
   "metadata": {},
   "source": [
    "<b>is_retweet</b>\n",
    "\n",
    "Esta variable indica si el tweet es en realidad un retweet. Todos los 74436 datos no son retweets"
   ]
  },
  {
   "cell_type": "markdown",
   "id": "e01e05e7",
   "metadata": {},
   "source": [
    "### Basandose en la media, moda y desviación estandar, ¿qué conclusiones se pueden sacar de los datos?"
   ]
  },
  {
   "cell_type": "code",
   "execution_count": 8,
   "id": "52c18d8f",
   "metadata": {},
   "outputs": [
    {
     "data": {
      "text/html": [
       "<div>\n",
       "<style scoped>\n",
       "    .dataframe tbody tr th:only-of-type {\n",
       "        vertical-align: middle;\n",
       "    }\n",
       "\n",
       "    .dataframe tbody tr th {\n",
       "        vertical-align: top;\n",
       "    }\n",
       "\n",
       "    .dataframe thead th {\n",
       "        text-align: right;\n",
       "    }\n",
       "</style>\n",
       "<table border=\"1\" class=\"dataframe\">\n",
       "  <thead>\n",
       "    <tr style=\"text-align: right;\">\n",
       "      <th></th>\n",
       "      <th>count</th>\n",
       "      <th>mean</th>\n",
       "      <th>std</th>\n",
       "      <th>min</th>\n",
       "      <th>25%</th>\n",
       "      <th>50%</th>\n",
       "      <th>75%</th>\n",
       "      <th>max</th>\n",
       "    </tr>\n",
       "  </thead>\n",
       "  <tbody>\n",
       "    <tr>\n",
       "      <th>user_followers</th>\n",
       "      <td>74436.0</td>\n",
       "      <td>105951.312913</td>\n",
       "      <td>822289.985493</td>\n",
       "      <td>0.0</td>\n",
       "      <td>166.0</td>\n",
       "      <td>960.0</td>\n",
       "      <td>5148.00</td>\n",
       "      <td>13892841.0</td>\n",
       "    </tr>\n",
       "    <tr>\n",
       "      <th>user_friends</th>\n",
       "      <td>74436.0</td>\n",
       "      <td>2154.721170</td>\n",
       "      <td>9365.587474</td>\n",
       "      <td>0.0</td>\n",
       "      <td>153.0</td>\n",
       "      <td>552.0</td>\n",
       "      <td>1780.25</td>\n",
       "      <td>497363.0</td>\n",
       "    </tr>\n",
       "    <tr>\n",
       "      <th>user_favourites</th>\n",
       "      <td>74436.0</td>\n",
       "      <td>15297.472030</td>\n",
       "      <td>46689.714291</td>\n",
       "      <td>0.0</td>\n",
       "      <td>220.0</td>\n",
       "      <td>1927.0</td>\n",
       "      <td>10148.00</td>\n",
       "      <td>2047197.0</td>\n",
       "    </tr>\n",
       "  </tbody>\n",
       "</table>\n",
       "</div>"
      ],
      "text/plain": [
       "                   count           mean            std  min    25%     50%  \\\n",
       "user_followers   74436.0  105951.312913  822289.985493  0.0  166.0   960.0   \n",
       "user_friends     74436.0    2154.721170    9365.587474  0.0  153.0   552.0   \n",
       "user_favourites  74436.0   15297.472030   46689.714291  0.0  220.0  1927.0   \n",
       "\n",
       "                      75%         max  \n",
       "user_followers    5148.00  13892841.0  \n",
       "user_friends      1780.25    497363.0  \n",
       "user_favourites  10148.00   2047197.0  "
      ]
     },
     "execution_count": 8,
     "metadata": {},
     "output_type": "execute_result"
    }
   ],
   "source": [
    "data.describe(include=[\"number\"]).T"
   ]
  },
  {
   "cell_type": "markdown",
   "id": "82cff284",
   "metadata": {},
   "source": [
    "<b>user_followers</b>\n",
    "\n",
    "En este caso, la media es 105951.31, mientras que la mediana es 960. Además, la desviación estándar es elevada: 822289.99 indica que hay una pequeña cantidad de datos atípicos con una cantidad significativamente más grande de seguidores que el resto.\n",
    "\n",
    "<b>user_friends</b>\n",
    "\n",
    "En este caso, la media es 2154.72, mientras que la mediana es 552. Además, la desviación estándar es elevada: 9365.59. Esto indica que hay una pequeña cantidad de datos atípicos con mayor cantidad de amigos que el resto\n",
    "\n",
    "\n",
    "<b>user_favourites</b>\n",
    "\n",
    "En este caso, la media es 15297.47, mientras que la mediana es 220. Además, la desviación estándar es elevada: 46689.71. Esto indica que hay una pequeña cantidad de datos atípicos con mayor cantidad de favoritos que el resto"
   ]
  },
  {
   "cell_type": "code",
   "execution_count": 9,
   "id": "cd0fa665",
   "metadata": {},
   "outputs": [
    {
     "data": {
      "text/html": [
       "<div>\n",
       "<style scoped>\n",
       "    .dataframe tbody tr th:only-of-type {\n",
       "        vertical-align: middle;\n",
       "    }\n",
       "\n",
       "    .dataframe tbody tr th {\n",
       "        vertical-align: top;\n",
       "    }\n",
       "\n",
       "    .dataframe thead th {\n",
       "        text-align: right;\n",
       "    }\n",
       "</style>\n",
       "<table border=\"1\" class=\"dataframe\">\n",
       "  <thead>\n",
       "    <tr style=\"text-align: right;\">\n",
       "      <th></th>\n",
       "      <th>count</th>\n",
       "      <th>unique</th>\n",
       "      <th>top</th>\n",
       "      <th>freq</th>\n",
       "    </tr>\n",
       "  </thead>\n",
       "  <tbody>\n",
       "    <tr>\n",
       "      <th>user_name</th>\n",
       "      <td>74436</td>\n",
       "      <td>44853</td>\n",
       "      <td>GlobalPandemic.NET</td>\n",
       "      <td>312</td>\n",
       "    </tr>\n",
       "    <tr>\n",
       "      <th>user_location</th>\n",
       "      <td>59218</td>\n",
       "      <td>14622</td>\n",
       "      <td>India</td>\n",
       "      <td>1496</td>\n",
       "    </tr>\n",
       "    <tr>\n",
       "      <th>user_description</th>\n",
       "      <td>70079</td>\n",
       "      <td>42690</td>\n",
       "      <td>Breaking News &amp; Critical Information to SURVIV...</td>\n",
       "      <td>312</td>\n",
       "    </tr>\n",
       "    <tr>\n",
       "      <th>user_created</th>\n",
       "      <td>74436</td>\n",
       "      <td>45554</td>\n",
       "      <td>2010-07-13 21:58:05</td>\n",
       "      <td>312</td>\n",
       "    </tr>\n",
       "    <tr>\n",
       "      <th>date</th>\n",
       "      <td>74436</td>\n",
       "      <td>56546</td>\n",
       "      <td>2020-07-29 16:30:00</td>\n",
       "      <td>26</td>\n",
       "    </tr>\n",
       "    <tr>\n",
       "      <th>text</th>\n",
       "      <td>74436</td>\n",
       "      <td>74312</td>\n",
       "      <td>Greenland has no active cases of the novel cor...</td>\n",
       "      <td>6</td>\n",
       "    </tr>\n",
       "    <tr>\n",
       "      <th>hashtags</th>\n",
       "      <td>53002</td>\n",
       "      <td>23445</td>\n",
       "      <td>['COVID19']</td>\n",
       "      <td>16004</td>\n",
       "    </tr>\n",
       "    <tr>\n",
       "      <th>source</th>\n",
       "      <td>74424</td>\n",
       "      <td>450</td>\n",
       "      <td>Twitter Web App</td>\n",
       "      <td>22974</td>\n",
       "    </tr>\n",
       "  </tbody>\n",
       "</table>\n",
       "</div>"
      ],
      "text/plain": [
       "                  count unique  \\\n",
       "user_name         74436  44853   \n",
       "user_location     59218  14622   \n",
       "user_description  70079  42690   \n",
       "user_created      74436  45554   \n",
       "date              74436  56546   \n",
       "text              74436  74312   \n",
       "hashtags          53002  23445   \n",
       "source            74424    450   \n",
       "\n",
       "                                                                top   freq  \n",
       "user_name                                        GlobalPandemic.NET    312  \n",
       "user_location                                                 India   1496  \n",
       "user_description  Breaking News & Critical Information to SURVIV...    312  \n",
       "user_created                                    2010-07-13 21:58:05    312  \n",
       "date                                            2020-07-29 16:30:00     26  \n",
       "text              Greenland has no active cases of the novel cor...      6  \n",
       "hashtags                                                ['COVID19']  16004  \n",
       "source                                              Twitter Web App  22974  "
      ]
     },
     "execution_count": 9,
     "metadata": {},
     "output_type": "execute_result"
    }
   ],
   "source": [
    "data.describe(include=[\"object\"]).T"
   ]
  },
  {
   "cell_type": "markdown",
   "id": "c1fb80ff",
   "metadata": {},
   "source": [
    "<b>user_name</b>\n",
    "\n",
    "El usuario con más cantidad de apariciones (moda) es GlobalPandemic.NET, con un total de 312 tweets\n",
    "\n",
    "<b>user_location</b>\n",
    "\n",
    "La ubicación más común de los usuarios es India (1496)\n",
    "\n",
    "<b>user_description</b>\n",
    "\n",
    "La descripción más frecuente corresponde a la del usuario más frecuente\n",
    "\n",
    "<b>date</b>\n",
    "\n",
    "La fecha más frecuente es 2020-07-29\n",
    "\n",
    "<b>hashtags</b>\n",
    "\n",
    "El hashtag más frecuente es COVID19, con un total de 16004 apariciones\n",
    "\n",
    "<b>source</b>\n",
    "\n",
    "El origen más común es Twitter Web App, con un total de 22974"
   ]
  }
 ],
 "metadata": {
  "kernelspec": {
   "display_name": "Python 3 (ipykernel)",
   "language": "python",
   "name": "python3"
  },
  "language_info": {
   "codemirror_mode": {
    "name": "ipython",
    "version": 3
   },
   "file_extension": ".py",
   "mimetype": "text/x-python",
   "name": "python",
   "nbconvert_exporter": "python",
   "pygments_lexer": "ipython3",
   "version": "3.9.6"
  }
 },
 "nbformat": 4,
 "nbformat_minor": 5
}
