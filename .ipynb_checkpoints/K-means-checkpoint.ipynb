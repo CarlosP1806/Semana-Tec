{
 "cells": [
  {
   "cell_type": "code",
   "execution_count": 40,
   "id": "303f417d",
   "metadata": {},
   "outputs": [],
   "source": [
    "import pandas as pd\n",
    "import numpy as np\n",
    "import random"
   ]
  },
  {
   "cell_type": "code",
   "execution_count": 15,
   "id": "10720514",
   "metadata": {
    "collapsed": true
   },
   "outputs": [],
   "source": [
    "def distance(p1, p2):\n",
    "    d = np.sqrt(sum((x1-x2)**2 for x1,x2 in zip(p1, p2)))\n",
    "    return d"
   ]
  },
  {
   "cell_type": "code",
   "execution_count": 24,
   "id": "0cd9db84",
   "metadata": {
    "collapsed": true
   },
   "outputs": [],
   "source": [
    "def closest(points, centers):\n",
    "    classes = {}\n",
    "    for center in centers:\n",
    "        classes[center] = []\n",
    "    \n",
    "    for point in points:\n",
    "        # Find the closest center\n",
    "        distance_to_closest = np.infty\n",
    "        closest_point = None\n",
    "        for center in centers:\n",
    "             if distance(point, center) < distance_to_closest:\n",
    "                    distance_to_closest = distance(point, center)\n",
    "                    closest_point = center\n",
    "                    \n",
    "        classes[closest_point].append(point)\n",
    "    \n",
    "    return classes"
   ]
  },
  {
   "cell_type": "code",
   "execution_count": 194,
   "id": "65425567",
   "metadata": {},
   "outputs": [],
   "source": [
    "def mean_group(group):\n",
    "    if not group:\n",
    "        return None\n",
    "    sums = [0] * len(group[0])\n",
    "    for point in group:\n",
    "        for i, coord in enumerate(point):\n",
    "            sums[i] += coord\n",
    "    mean = [x/len(group) for x in sums]\n",
    "    return mean"
   ]
  },
  {
   "cell_type": "code",
   "execution_count": 248,
   "id": "1146f41c",
   "metadata": {},
   "outputs": [],
   "source": [
    "def get_centers(groups, old_centers):\n",
    "    new_centers = []\n",
    "    for i, group in enumerate(groups):\n",
    "        new_center = mean_group(group)\n",
    "        if new_center:\n",
    "            new_centers.append(tuple(new_center))\n",
    "        else:\n",
    "            new_centers.append(old_centers[i])\n",
    "    return new_centers"
   ]
  },
  {
   "cell_type": "code",
   "execution_count": 263,
   "id": "c3b84d69",
   "metadata": {},
   "outputs": [],
   "source": [
    "def kmeans(points, k):\n",
    "    dim = len(points[0])\n",
    "    \n",
    "    # define k random centers\n",
    "    centers = []\n",
    "    for i in range(k):\n",
    "        center = tuple([random.random()*6-1 for x in range(dim)])\n",
    "        centers.append(center)\n",
    "\n",
    "    classes = closest(points, centers)\n",
    "    prev_centers = centers\n",
    "    for i in range(1000):\n",
    "        groups = list(classes.values())\n",
    "        updated_centers = get_centers(groups, prev_centers)\n",
    "        classes = closest(points, updated_centers)\n",
    "        prev_centers = updated_centers\n",
    "    \n",
    "    return list(classes.values())"
   ]
  }
 ],
 "metadata": {
  "kernelspec": {
   "display_name": "Python 3 (ipykernel)",
   "language": "python",
   "name": "python3"
  },
  "language_info": {
   "codemirror_mode": {
    "name": "ipython",
    "version": 3
   },
   "file_extension": ".py",
   "mimetype": "text/x-python",
   "name": "python",
   "nbconvert_exporter": "python",
   "pygments_lexer": "ipython3",
   "version": "3.9.6"
  }
 },
 "nbformat": 4,
 "nbformat_minor": 5
}
